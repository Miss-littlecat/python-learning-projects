{
 "cells": [
  {
   "cell_type": "code",
   "execution_count": 2,
   "id": "43cbe8e2-633f-4d29-9798-4b53c5870ec5",
   "metadata": {},
   "outputs": [
    {
     "name": "stdout",
     "output_type": "stream",
     "text": [
      "Requirement already satisfied: spotipy in d:\\anaconda\\anaconda\\lib\\site-packages (2.25.1)\n",
      "Requirement already satisfied: redis>=3.5.3 in d:\\anaconda\\anaconda\\lib\\site-packages (from spotipy) (6.2.0)\n",
      "Requirement already satisfied: requests>=2.25.0 in d:\\anaconda\\anaconda\\lib\\site-packages (from spotipy) (2.32.3)\n",
      "Requirement already satisfied: urllib3>=1.26.0 in d:\\anaconda\\anaconda\\lib\\site-packages (from spotipy) (2.2.3)\n",
      "Requirement already satisfied: charset-normalizer<4,>=2 in d:\\anaconda\\anaconda\\lib\\site-packages (from requests>=2.25.0->spotipy) (3.3.2)\n",
      "Requirement already satisfied: idna<4,>=2.5 in d:\\anaconda\\anaconda\\lib\\site-packages (from requests>=2.25.0->spotipy) (3.7)\n",
      "Requirement already satisfied: certifi>=2017.4.17 in d:\\anaconda\\anaconda\\lib\\site-packages (from requests>=2.25.0->spotipy) (2024.8.30)\n",
      "Note: you may need to restart the kernel to use updated packages.\n"
     ]
    }
   ],
   "source": [
    "pip install spotipy"
   ]
  },
  {
   "cell_type": "code",
   "execution_count": 37,
   "id": "0ccfb988-cdd8-4f12-aca6-c064a643d794",
   "metadata": {
    "scrolled": true
   },
   "outputs": [
    {
     "name": "stdout",
     "output_type": "stream",
     "text": [
      "<Response [200]>\n",
      "['Genie In A Bottle', 'Bills, Bills, Bills', \"Tell Me It's Real\", 'Summer Girls', 'All Star', 'I Want It That Way', 'Where My Girls At?', 'If You Had My Love', 'Last Kiss', 'Jamboree', 'Bailamos', 'Someday', \"It's Not Right But It's Okay\", 'Wild Wild West', 'I Will Remember You (Live)', 'So Anxious', \"She's So High\", \"It's All About You (Not About Me)\", 'Fortunate', 'Scar Tissue', 'Spend My Life With You', 'Happily Ever After', 'Smile', 'Amazed', 'Better Days (And The Bottom Drops Out)', 'Smooth', 'Kiss Me', \"Lesson In Leavin'\", 'God Must Have Spent A Little More Time On You', 'Out Of My Head', 'Beautiful Stranger', 'What Ya Want', 'Sometimes', 'The Hardest Thing', 'Black Balloon', 'Hey Leonardo (She Likes Me For Me)', 'I Do (Cherish You)', 'Single White Female', 'Unpretty', 'I Could Not Ask For More', \"You'll Be In My Heart\", 'No Scrubs', 'Little Good-Byes', \"Livin' La Vida Loca\", 'Anywhere', \"She's All I Ever Had\", 'A Night To Remember', 'You Had Me From Hello', 'Back That Thang Up', \"Almost Doesn't Count\", 'The Secret Of Life', \"You've Got A Way\", '808', 'All That I Can Say', 'Everything Is Everything', 'Lately', 'Little Man', \"The Cup Of Life (The Official Song Of The World Cup, France '98)\", 'Jigga My N****', 'Ready To Run', 'Write This Down', 'Steal My Sunshine', 'Never Gonna Let You Go', \"Chante's Got A Man\", 'Who Needs Pictures', 'My Own Worst Enemy', 'Something Like That', 'All N My Grill', \"What's My Age Again?\", 'Sunshine', \"I'll Be Your Everything\", 'American Woman', 'No Pigeons', \"I'll Still Love You More\", 'The Day The World Went Away', 'Wanna Be A Baller', 'Vivrant Thing', \"(Now You See Me) Now You Don't\", 'I Will Go With You (Con Te Partiro)', 'Whatever You Say', 'Did You Ever Think', 'Meeting In My Bedroom', 'Nookie', 'Boom, Boom, Boom, Boom!!', 'Almost Home', 'Get Gone', 'Who Dat', 'Everyone Falls In Love', 'Never Been Kissed', 'Lonely And Gone', 'Watch Out Now', 'Players Holiday', 'Sexual (Li Da Di)', \"Tonight The Heartache's On Me\", 'Rollercoaster', \"It's Your Thing\", 'Lightning Does The Work', 'You Are Everything', 'Better Than Me', 'Crazy Little Thing Called Love']\n"
     ]
    }
   ],
   "source": [
    "import requests\n",
    "from bs4 import BeautifulSoup\n",
    "#data = input(\"Which year do you want to travel to? Type the date in this format YYYY-MM-DD:\")\n",
    "url = \"https://www.billboard.com/charts/hot-100/1999-08-17/\"\n",
    "response = requests.get(url)\n",
    "print(response)\n",
    "soup = BeautifulSoup(response.text, \"html.parser\")\n",
    "song_names_spans = soup.select(\"li ul li h3\")\n",
    "song_names = [song.getText().strip() for song in song_names_spans]\n",
    "print(song_names)"
   ]
  },
  {
   "cell_type": "code",
   "execution_count": null,
   "id": "af8ce73d-cf82-4b3f-95c4-f298642ddde5",
   "metadata": {},
   "outputs": [],
   "source": [
    "song_names=['Genie In A Bottle', 'Bills, Bills, Bills', \"Tell Me It's Real\", 'Summer Girls', 'All Star', 'I Want It That Way', 'Where My Girls At?', 'If You Had My Love', 'Last Kiss', 'Jamboree', 'Bailamos', 'Someday', \"It's Not Right But It's Okay\", 'Wild Wild West', 'I Will Remember You (Live)', 'So Anxious', \"She's So High\", \"It's All About You (Not About Me)\", 'Fortunate', 'Scar Tissue', 'Spend My Life With You', 'Happily Ever After', 'Smile', 'Amazed', 'Better Days (And The Bottom Drops Out)', 'Smooth', 'Kiss Me', \"Lesson In Leavin'\", 'God Must Have Spent A Little More Time On You', 'Out Of My Head', 'Beautiful Stranger', 'What Ya Want', 'Sometimes', 'The Hardest Thing', 'Black Balloon', 'Hey Leonardo (She Likes Me For Me)', 'I Do (Cherish You)', 'Single White Female', 'Unpretty', 'I Could Not Ask For More', \"You'll Be In My Heart\", 'No Scrubs', 'Little Good-Byes', \"Livin' La Vida Loca\", 'Anywhere', \"She's All I Ever Had\", 'A Night To Remember', 'You Had Me From Hello', 'Back That Thang Up', \"Almost Doesn't Count\", 'The Secret Of Life', \"You've Got A Way\", '808', 'All That I Can Say', 'Everything Is Everything', 'Lately', 'Little Man', \"The Cup Of Life (The Official Song Of The World Cup, France '98)\", 'Jigga My N****', 'Ready To Run', 'Write This Down', 'Steal My Sunshine', 'Never Gonna Let You Go', \"Chante's Got A Man\", 'Who Needs Pictures', 'My Own Worst Enemy', 'Something Like That', 'All N My Grill', \"What's My Age Again?\", 'Sunshine', \"I'll Be Your Everything\", 'American Woman', 'No Pigeons', \"I'll Still Love You More\", 'The Day The World Went Away', 'Wanna Be A Baller', 'Vivrant Thing', \"(Now You See Me) Now You Don't\", 'I Will Go With You (Con Te Partiro)', 'Whatever You Say', 'Did You Ever Think', 'Meeting In My Bedroom', 'Nookie', 'Boom, Boom, Boom, Boom!!', 'Almost Home', 'Get Gone', 'Who Dat', 'Everyone Falls In Love', 'Never Been Kissed', 'Lonely And Gone', 'Watch Out Now', 'Players Holiday', 'Sexual (Li Da Di)', \"Tonight The Heartache's On Me\", 'Rollercoaster', \"It's Your Thing\", 'Lightning Does The Work', 'You Are Everything', 'Better Than Me', 'Crazy Little Thing Called Love']"
   ]
  },
  {
   "cell_type": "code",
   "execution_count": 55,
   "id": "c05820fd-62b8-4fa7-a57d-9c58cd960497",
   "metadata": {},
   "outputs": [],
   "source": [
    "import spotipy\n",
    "from spotipy.oauth2 import SpotifyOAuth\n",
    "\n",
    "sp = spotipy.Spotify(\n",
    "    auth_manager=SpotifyOAuth(\n",
    "        scope=\"playlist-modify-private\",\n",
    "        redirect_uri=\"http://127.0.0.1:8080/callback\",\n",
    "        client_id=\"ed06c46106d94b5084b1b56ea16e3732\",\n",
    "        client_secret=\"0e39036a6fb447e3bc04d1a115b008c7\",\n",
    "        show_dialog=True,\n",
    "        cache_path=\"token.txt\",\n",
    "        username=\"江湖客\",\n",
    "    )\n",
    ")\n",
    "\n",
    "user_id = sp.current_user()[\"id\"]\n",
    "# user_id = 31zwyefn47nlutpd2prdxoax35ny"
   ]
  },
  {
   "cell_type": "raw",
   "id": "9de91f56-1171-4703-8d72-c9f5b1e8bd39",
   "metadata": {},
   "source": [
    "Ps: Don't know how to use pprint — Data pretty printer"
   ]
  },
  {
   "cell_type": "code",
   "execution_count": 38,
   "id": "31f88c81-f272-427d-ade8-912d1682c5fc",
   "metadata": {
    "scrolled": true
   },
   "outputs": [
    {
     "name": "stdout",
     "output_type": "stream",
     "text": [
      "Lesson In Leavin' doesn't exist in Spotify. Skipped.\n",
      "Hey Leonardo (She Likes Me For Me) doesn't exist in Spotify. Skipped.\n",
      "I Do (Cherish You) doesn't exist in Spotify. Skipped.\n",
      "The Cup Of Life (The Official Song Of The World Cup, France '98) doesn't exist in Spotify. Skipped.\n",
      "I'll Still Love You More doesn't exist in Spotify. Skipped.\n",
      "(Now You See Me) Now You Don't doesn't exist in Spotify. Skipped.\n",
      "Whatever You Say doesn't exist in Spotify. Skipped.\n",
      "Tonight The Heartache's On Me doesn't exist in Spotify. Skipped.\n",
      "Lightning Does The Work doesn't exist in Spotify. Skipped.\n",
      "['spotify:track:11mwFrKvLXCbcVGNxffGyP', 'spotify:track:1Oi2zpmL81Q0yScF1zxaC0', 'spotify:track:3fQtdmVB0cAe4Hs9e5bVQb', 'spotify:track:7uYroF9RRrhRJBrigRvB6H', 'spotify:track:3cfOd4CMv2snFaKAnMdnvK', 'spotify:track:47BBI51FKFwOMlIiX6m8ya', 'spotify:track:4VSyH8AkIt3kaR5xIPFVVi', 'spotify:track:3x4yV0hW5Ve3TKhFkXSqFn', 'spotify:track:0QnONzv3TvHAWk294h6DaQ', 'spotify:track:3MPKTMJIxlORqcxw542HHK', 'spotify:track:2bbeNsFmjZqdoDhjLsKNWe', 'spotify:track:4OfiiVuu8opYkWQ9TJKNP7', 'spotify:track:0jAqxkG7L4slEpfFPdYEkr', 'spotify:track:5AMvBCtX2rspUdoeJ9IsPN', 'spotify:track:17dJKYDOzbmb30cLXgrWiP', 'spotify:track:2zbjlcLi1VQWqDNYdhyx1l', 'spotify:track:7mnGQesk1TzQLzQ9bYWZPR', 'spotify:track:6GL0fpUHeQ4gBkFcp3j2Dn', 'spotify:track:2RtvkLz5tmOXlzz918It6E', 'spotify:track:1G391cbiT3v3Cywg8T7DM1', 'spotify:track:58s4iqgXFzXhBndBkg2AaD', 'spotify:track:21fXrzSxu2y51Yqf57QycI', 'spotify:track:6bviZDF1U3mFNJ4QIcQSVM', 'spotify:track:6qc34bnVOyqGDPni8H5W0U', 'spotify:track:460Wn6Dq2uMviG5nPXtPnb', 'spotify:track:0n2SEXB2qoRQg171q7XqeW', 'spotify:track:45j6mQqLgQuWxNgUg86lvv', 'spotify:track:4OFHAg4IA3B1epiCcSVCwe', 'spotify:track:3P5NEVTNhYOTrln35Wpjgh', 'spotify:track:4jRaFkR8dBYwbKXryAI29a', 'spotify:track:7trv6zFBS6YUuJsZf5U8uE', 'spotify:track:1UI0l2L66HJ9AtoEOlHzv4', 'spotify:track:5yPihU0IDMpGPEkYTYRaRI', 'spotify:track:4xtvK86k9evxGqDIJ5s49q', 'spotify:track:3rDYYPicaQbT2rcpdfqQF9', 'spotify:track:0BUoLE4o9eVahDHvTqak67', 'spotify:track:14J3PO0VnhtcRa31r7Aj1L', 'spotify:track:4Y8vb1uy9IjM2V1hqvrAid', 'spotify:track:1KGi9sZVMeszgZOWivFpxs', 'spotify:track:5ZX3IrB9tPxOoBZdXILNpy', 'spotify:track:0Ph6L4l8dYUuXFmb71Ajnd', 'spotify:track:70rtVN2rvGfPmq9A6XpRer', 'spotify:track:4Bza6algEDbY8yrm8qMeg7', 'spotify:track:7r45fN7xpmDIOxKIyPb6qb', 'spotify:track:3NJn7p1nrI3R8alivEMPwB', 'spotify:track:3QEleZFKrchGhahWzGAZAM', 'spotify:track:2X5NqLVb8THs2Np0UpVyDx', 'spotify:track:5DB7MlSLm1oasAefhPlV0E', 'spotify:track:3E714D9pZURRdgJ6iGhc8E', 'spotify:track:1Pqv7l6vxjBxd5fx4bWchC', 'spotify:track:0b7tfmHH7G72ZByouk4WEh', 'spotify:track:7c4CgRtaTEwVppxZw4lSOi', 'spotify:track:0tw8DGtkj5i1Zg2FRaqm9Z', 'spotify:track:1FjynrB4n4Ukw0sYx2w6Nb', 'spotify:track:0Db1a7sL9MOjXgO5Z7zRM4', 'spotify:track:7yNTZj1ugKCeRJdSP1meOk', 'spotify:track:1TanmIWbaUj5NVwJ3k4XPd', 'spotify:track:2GRnDQCkcN6BoujfUgywOW', 'spotify:track:3qpOB2jPAPJRZr3P7P2bZT', 'spotify:track:6v4UCusR4LTRlM5WHBUyxQ', 'spotify:track:2VseRo2PPYyf1DQBT6y7nE', 'spotify:track:33iv3wnGMrrDugd7GBso1z', 'spotify:track:6leiB1fEsTnVCuPiielde5', 'spotify:track:4vO3U8AKIjwBEBCTbEFbD9', 'spotify:track:4LJhJ6DQS7NwE7UKtvcM52', 'spotify:track:7xRp14vUyZdvrwjSobZNyL', 'spotify:track:4G4fDBH6HSJEHzj98JGCDw', 'spotify:track:1w5KWJ1fod4bS1VadCyAsc', 'spotify:track:6r78MF6BFaeEG8rBw9Y5nQ', 'spotify:track:44sz0rNbTA687rs9CYi0IN', 'spotify:track:0kRs1SBzp5uRV4L0ARghOq', 'spotify:track:31KK3pcPclmIt087tPuwMr', 'spotify:track:433m5xRcVM3jFm3IuijkKs', 'spotify:track:0ueiA99WXbjb4vHvUEKQSs', 'spotify:track:3Ypnlj9KYSif4Elk7EeHgt', 'spotify:track:1TEZWG1FdjzDdercCguTwj', 'spotify:track:5N6M8yDiMV32T6Rkzh8EbW', 'spotify:track:4hYhtPWDq7xI3vRQSdx346', 'spotify:track:32yottFNSCL9Nho9biIKzY', 'spotify:track:2rbb3lOMI71NIMbJCS1wQQ', 'spotify:track:6nGwWIh0ATJqK9cXbLqDw8', 'spotify:track:07TusGQhIyYlJdPkyoGyZI', 'spotify:track:3DZ9lFH4NBO4FjRJAnQYef', 'spotify:track:1n6pgjMma0nsl4jyMzmjxQ', 'spotify:track:0F5fKUhNu0M6v1F3umPBdk', 'spotify:track:6EbHq1fhCZePddEdD5ppui', 'spotify:track:16FpBXCh6zQG9QWZCtp565', 'spotify:track:2oezpnnea1VXHpJEbqnBhw', 'spotify:track:57KRjTIdyLReCsPMqJiYRn', 'spotify:track:3aiyqQPjhq1HdxQM1FmoUt', 'spotify:track:2kPhndhmpESYhoFTvpAIQU']\n"
     ]
    }
   ],
   "source": [
    "song_uris = []\n",
    "date=\"1999-08-17\"\n",
    "year = date.split(\"-\")[0]\n",
    "for song in song_names:\n",
    "    result = sp.search(q=f\"track:{song} year:{year}\", type=\"track\")\n",
    "    #pprint.pp(result)\n",
    "    try:\n",
    "        uri = result[\"tracks\"][\"items\"][0][\"uri\"]\n",
    "        song_uris.append(uri)\n",
    "    except IndexError:\n",
    "        print(f\"{song} doesn't exist in Spotify. Skipped.\")\n",
    "\n",
    "print(song_uris)"
   ]
  },
  {
   "cell_type": "code",
   "execution_count": null,
   "id": "fa1f5894-9d0b-40a2-a866-f6652e82e810",
   "metadata": {},
   "outputs": [],
   "source": [
    "songs_uris=['spotify:track:11mwFrKvLXCbcVGNxffGyP', 'spotify:track:1Oi2zpmL81Q0yScF1zxaC0', 'spotify:track:3fQtdmVB0cAe4Hs9e5bVQb', 'spotify:track:7uYroF9RRrhRJBrigRvB6H', 'spotify:track:3cfOd4CMv2snFaKAnMdnvK', 'spotify:track:47BBI51FKFwOMlIiX6m8ya', 'spotify:track:4VSyH8AkIt3kaR5xIPFVVi', 'spotify:track:3x4yV0hW5Ve3TKhFkXSqFn', 'spotify:track:0QnONzv3TvHAWk294h6DaQ', 'spotify:track:3MPKTMJIxlORqcxw542HHK', 'spotify:track:2bbeNsFmjZqdoDhjLsKNWe', 'spotify:track:4OfiiVuu8opYkWQ9TJKNP7', 'spotify:track:0jAqxkG7L4slEpfFPdYEkr', 'spotify:track:5AMvBCtX2rspUdoeJ9IsPN', 'spotify:track:17dJKYDOzbmb30cLXgrWiP', 'spotify:track:2zbjlcLi1VQWqDNYdhyx1l', 'spotify:track:7mnGQesk1TzQLzQ9bYWZPR', 'spotify:track:6GL0fpUHeQ4gBkFcp3j2Dn', 'spotify:track:2RtvkLz5tmOXlzz918It6E', 'spotify:track:1G391cbiT3v3Cywg8T7DM1', 'spotify:track:58s4iqgXFzXhBndBkg2AaD', 'spotify:track:21fXrzSxu2y51Yqf57QycI', 'spotify:track:6bviZDF1U3mFNJ4QIcQSVM', 'spotify:track:6qc34bnVOyqGDPni8H5W0U', 'spotify:track:460Wn6Dq2uMviG5nPXtPnb', 'spotify:track:0n2SEXB2qoRQg171q7XqeW', 'spotify:track:45j6mQqLgQuWxNgUg86lvv', 'spotify:track:4OFHAg4IA3B1epiCcSVCwe', 'spotify:track:3P5NEVTNhYOTrln35Wpjgh', 'spotify:track:4jRaFkR8dBYwbKXryAI29a', 'spotify:track:7trv6zFBS6YUuJsZf5U8uE', 'spotify:track:1UI0l2L66HJ9AtoEOlHzv4', 'spotify:track:5yPihU0IDMpGPEkYTYRaRI', 'spotify:track:4xtvK86k9evxGqDIJ5s49q', 'spotify:track:3rDYYPicaQbT2rcpdfqQF9', 'spotify:track:0BUoLE4o9eVahDHvTqak67', 'spotify:track:14J3PO0VnhtcRa31r7Aj1L', 'spotify:track:4Y8vb1uy9IjM2V1hqvrAid', 'spotify:track:1KGi9sZVMeszgZOWivFpxs', 'spotify:track:5ZX3IrB9tPxOoBZdXILNpy', 'spotify:track:0Ph6L4l8dYUuXFmb71Ajnd', 'spotify:track:70rtVN2rvGfPmq9A6XpRer', 'spotify:track:4Bza6algEDbY8yrm8qMeg7', 'spotify:track:7r45fN7xpmDIOxKIyPb6qb', 'spotify:track:3NJn7p1nrI3R8alivEMPwB', 'spotify:track:3QEleZFKrchGhahWzGAZAM', 'spotify:track:2X5NqLVb8THs2Np0UpVyDx', 'spotify:track:5DB7MlSLm1oasAefhPlV0E', 'spotify:track:3E714D9pZURRdgJ6iGhc8E', 'spotify:track:1Pqv7l6vxjBxd5fx4bWchC', 'spotify:track:0b7tfmHH7G72ZByouk4WEh', 'spotify:track:7c4CgRtaTEwVppxZw4lSOi', 'spotify:track:0tw8DGtkj5i1Zg2FRaqm9Z', 'spotify:track:1FjynrB4n4Ukw0sYx2w6Nb', 'spotify:track:0Db1a7sL9MOjXgO5Z7zRM4', 'spotify:track:7yNTZj1ugKCeRJdSP1meOk', 'spotify:track:1TanmIWbaUj5NVwJ3k4XPd', 'spotify:track:2GRnDQCkcN6BoujfUgywOW', 'spotify:track:3qpOB2jPAPJRZr3P7P2bZT', 'spotify:track:6v4UCusR4LTRlM5WHBUyxQ', 'spotify:track:2VseRo2PPYyf1DQBT6y7nE', 'spotify:track:33iv3wnGMrrDugd7GBso1z', 'spotify:track:6leiB1fEsTnVCuPiielde5', 'spotify:track:4vO3U8AKIjwBEBCTbEFbD9', 'spotify:track:4LJhJ6DQS7NwE7UKtvcM52', 'spotify:track:7xRp14vUyZdvrwjSobZNyL', 'spotify:track:4G4fDBH6HSJEHzj98JGCDw', 'spotify:track:1w5KWJ1fod4bS1VadCyAsc', 'spotify:track:6r78MF6BFaeEG8rBw9Y5nQ', 'spotify:track:44sz0rNbTA687rs9CYi0IN', 'spotify:track:0kRs1SBzp5uRV4L0ARghOq', 'spotify:track:31KK3pcPclmIt087tPuwMr', 'spotify:track:433m5xRcVM3jFm3IuijkKs', 'spotify:track:0ueiA99WXbjb4vHvUEKQSs', 'spotify:track:3Ypnlj9KYSif4Elk7EeHgt', 'spotify:track:1TEZWG1FdjzDdercCguTwj', 'spotify:track:5N6M8yDiMV32T6Rkzh8EbW', 'spotify:track:4hYhtPWDq7xI3vRQSdx346', 'spotify:track:32yottFNSCL9Nho9biIKzY', 'spotify:track:2rbb3lOMI71NIMbJCS1wQQ', 'spotify:track:6nGwWIh0ATJqK9cXbLqDw8', 'spotify:track:07TusGQhIyYlJdPkyoGyZI', 'spotify:track:3DZ9lFH4NBO4FjRJAnQYef', 'spotify:track:1n6pgjMma0nsl4jyMzmjxQ', 'spotify:track:0F5fKUhNu0M6v1F3umPBdk', 'spotify:track:6EbHq1fhCZePddEdD5ppui', 'spotify:track:16FpBXCh6zQG9QWZCtp565', 'spotify:track:2oezpnnea1VXHpJEbqnBhw', 'spotify:track:57KRjTIdyLReCsPMqJiYRn', 'spotify:track:3aiyqQPjhq1HdxQM1FmoUt', 'spotify:track:2kPhndhmpESYhoFTvpAIQU']"
   ]
  },
  {
   "cell_type": "raw",
   "id": "c16c7723-20b4-436f-a20d-1fbfc10f5675",
   "metadata": {},
   "source": [
    "user_playlist_create(user=\"31zwyefn47nlutpd2prdxoax35ny\", name=\"1999-08-17 Billboard 100\", public=True, collaborative=False, description=\"hot musics in the day I borned\")\n",
    "Creates a playlist for a user\n",
    "Parameters:\n",
    "user - the id of the user\n",
    "name - the name of the playlist\n",
    "public - is the created playlist public\n",
    "collaborative - is the created playlist collaborative\n",
    "description - the description of the playlist"
   ]
  },
  {
   "cell_type": "raw",
   "id": "7be8d357-1552-4e10-bcdd-be1e63b9ee4f",
   "metadata": {},
   "source": [
    "playlist_add_items(playlist_id, items, position=None)\n",
    "Adds tracks/episodes to a playlist\n",
    "Parameters:\n",
    "playlist_id - the id of the playlist\n",
    "items - a list of track/episode URIs or URLs\n",
    "position - the position to add the tracks"
   ]
  },
  {
   "cell_type": "code",
   "execution_count": 60,
   "id": "54d15c48-7434-4725-8a76-9a105e9054db",
   "metadata": {},
   "outputs": [
    {
     "name": "stdout",
     "output_type": "stream",
     "text": [
      "1Tt9fFD6s5KX952MduucKl\n"
     ]
    }
   ],
   "source": [
    "my_playlist = sp.user_playlist_create(user=\"31zwyefn47nlutpd2prdxoax35ny\", name=\"1999-08-17 Billboard 100\", \n",
    "                     public=False, collaborative=False, description=\"hot musics in the day I borned\")\n",
    "playlist_id = my_playlist[\"id\"]\n",
    "sp.playlist_add_items(playlist_id, song_uris)\n",
    "#sp.playlist_add_items(playlist_id=playlist[\"id\"], items=song_uris)\n",
    "\n",
    "\n",
    "# for song in song_uris:\n",
    "#     sp.playlist_add_items(playlist_id, song, position=None)\n",
    "print(playlist_id)"
   ]
  },
  {
   "cell_type": "raw",
   "id": "edbdcad5-1dce-4aaa-8536-e2acd37ef8c3",
   "metadata": {},
   "source": [
    "playlist_id = 1Tt9fFD6s5KX952MduucKl"
   ]
  },
  {
   "cell_type": "code",
   "execution_count": 62,
   "id": "5d460d77-c278-4feb-a60e-34f2b0b3f40d",
   "metadata": {},
   "outputs": [],
   "source": [
    "sp.playlist_change_details(playlist_id, name=\"Billboard 100 on my birthday\", public=None,\n",
    "                           collaborative=None, description=\"hot musics in the day I borned\")"
   ]
  },
  {
   "cell_type": "code",
   "execution_count": null,
   "id": "259f663f-99ee-48fc-be73-2f5865e4dc03",
   "metadata": {},
   "outputs": [],
   "source": []
  }
 ],
 "metadata": {
  "kernelspec": {
   "display_name": "Python 3 (ipykernel)",
   "language": "python",
   "name": "python3"
  },
  "language_info": {
   "codemirror_mode": {
    "name": "ipython",
    "version": 3
   },
   "file_extension": ".py",
   "mimetype": "text/x-python",
   "name": "python",
   "nbconvert_exporter": "python",
   "pygments_lexer": "ipython3",
   "version": "3.12.7"
  }
 },
 "nbformat": 4,
 "nbformat_minor": 5
}
